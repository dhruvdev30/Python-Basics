{
  "nbformat": 4,
  "nbformat_minor": 0,
  "metadata": {
    "colab": {
      "name": "Python Basics.ipynb",
      "provenance": [],
      "collapsed_sections": [],
      "include_colab_link": true
    },
    "kernelspec": {
      "name": "python3",
      "display_name": "Python 3"
    },
    "language_info": {
      "name": "python"
    }
  },
  "cells": [
    {
      "cell_type": "markdown",
      "metadata": {
        "id": "view-in-github",
        "colab_type": "text"
      },
      "source": [
        "<a href=\"https://colab.research.google.com/github/dhruvdev30/Python-Basics/blob/main/Python_Basics.ipynb\" target=\"_parent\"><img src=\"https://colab.research.google.com/assets/colab-badge.svg\" alt=\"Open In Colab\"/></a>"
      ]
    },
    {
      "cell_type": "markdown",
      "metadata": {
        "id": "1A3f5uLQXAIp"
      },
      "source": [
        "1. Function() - Inbuilt /User Defined\n",
        "2. Variables - It holds values (ANy datatype)"
      ]
    },
    {
      "cell_type": "code",
      "metadata": {
        "id": "1zEPvctd0v0e"
      },
      "source": [
        "print(\"Hello World\")"
      ],
      "execution_count": null,
      "outputs": []
    },
    {
      "cell_type": "code",
      "metadata": {
        "id": "4ulhFNk03arv"
      },
      "source": [
        "\"Hello World\""
      ],
      "execution_count": null,
      "outputs": []
    },
    {
      "cell_type": "code",
      "metadata": {
        "id": "qgFBTShW33GB"
      },
      "source": [
        "subject =  input(\"What are you learning? \")\n",
        "print(\"I am learning\",subject)"
      ],
      "execution_count": null,
      "outputs": []
    },
    {
      "cell_type": "code",
      "metadata": {
        "id": "932McG9R4X7b"
      },
      "source": [
        "# Assignment : Take 2 variables as input and assign the numbers\n",
        "# Print the sum of 2 numbers"
      ],
      "execution_count": null,
      "outputs": []
    },
    {
      "cell_type": "code",
      "metadata": {
        "id": "Y7XLg77qXsiq"
      },
      "source": [
        "a = 1\n",
        "type(a)"
      ],
      "execution_count": null,
      "outputs": []
    },
    {
      "cell_type": "code",
      "metadata": {
        "id": "hAixXNkwX0xb"
      },
      "source": [
        "a = 1.1\n",
        "type(a)"
      ],
      "execution_count": null,
      "outputs": []
    },
    {
      "cell_type": "code",
      "metadata": {
        "id": "F1RQ7g4DX9VD"
      },
      "source": [
        "a = 'A'\n",
        "type(a) # No char datatype in Python"
      ],
      "execution_count": null,
      "outputs": []
    },
    {
      "cell_type": "code",
      "metadata": {
        "id": "_O86P8zmYOBv"
      },
      "source": [
        "a = \"Python\"\n",
        "type(a)"
      ],
      "execution_count": null,
      "outputs": []
    },
    {
      "cell_type": "code",
      "metadata": {
        "id": "HaXOhYDvYVGK"
      },
      "source": [
        "a = int(input(\"Enter 1st number\"))\n",
        "b = int(input(\"Enter 2nd number\"))\n",
        "add = a+b\n",
        "print(add)\n"
      ],
      "execution_count": null,
      "outputs": []
    },
    {
      "cell_type": "code",
      "metadata": {
        "id": "g9-DqeqlZWwV"
      },
      "source": [
        "# The sum of 12 and 34 is 46\n",
        "# Method 1: Using + operator\n",
        "print(\"The sum of \"+str(a)+\" and \" +str(b)+ \" is \" +str(add))\n",
        "# Method 2: Using , operator\n",
        "print(\"The sum of\",a,\"and\",b,\"is\",add)\n",
        "# Method 3: String Formatting\n",
        "print(f\"The sum of {a} and {b} is {add}\")"
      ],
      "execution_count": null,
      "outputs": []
    },
    {
      "cell_type": "code",
      "metadata": {
        "id": "Qg1sJzGDYnRG"
      },
      "source": [
        "'Py'+'thon' # COncatenation"
      ],
      "execution_count": null,
      "outputs": []
    },
    {
      "cell_type": "code",
      "metadata": {
        "id": "oXqN73pjYy89"
      },
      "source": [
        "int('12')+int('34')"
      ],
      "execution_count": null,
      "outputs": []
    },
    {
      "cell_type": "markdown",
      "metadata": {
        "id": "-C0T70dUbmAH"
      },
      "source": [
        "# In built FUnctions\n",
        "1. print()\n",
        "2. input()\n",
        "3. int()\n",
        "4. type()\n",
        "5. str()\n",
        "6. float()\n",
        "\n",
        "https://docs.python.org/3/library/functions.html"
      ]
    },
    {
      "cell_type": "code",
      "metadata": {
        "id": "OriFi7gLZEy2"
      },
      "source": [
        "# Conditions and loops"
      ],
      "execution_count": null,
      "outputs": []
    },
    {
      "cell_type": "code",
      "metadata": {
        "id": "hB1rZxsAcDYY"
      },
      "source": [
        "# if , elif, else"
      ],
      "execution_count": null,
      "outputs": []
    },
    {
      "cell_type": "code",
      "metadata": {
        "id": "_l37AfsecrIN"
      },
      "source": [
        "a = 3\n",
        "3%2"
      ],
      "execution_count": null,
      "outputs": []
    },
    {
      "cell_type": "code",
      "metadata": {
        "id": "mIEJUCOKcP6t"
      },
      "source": [
        "a = int(input(\"Enter the number\"))\n",
        "if a%2==0:\n",
        "  print(f'{a} is even number')\n",
        "else:\n",
        "  print(f'{a} is odd number')"
      ],
      "execution_count": null,
      "outputs": []
    },
    {
      "cell_type": "code",
      "metadata": {
        "id": "Df8TtZkQdgVy"
      },
      "source": [
        "# Elif = ELse if"
      ],
      "execution_count": null,
      "outputs": []
    },
    {
      "cell_type": "code",
      "metadata": {
        "id": "K1_O2Jorebfa"
      },
      "source": [
        "# Loop : repeatition"
      ],
      "execution_count": null,
      "outputs": []
    },
    {
      "cell_type": "code",
      "metadata": {
        "id": "nYMU1_Tdelfu"
      },
      "source": [
        "# 1. Entry controlled loop - for and while\n",
        "# 2. Exit Controlled loop - do while"
      ],
      "execution_count": null,
      "outputs": []
    },
    {
      "cell_type": "code",
      "metadata": {
        "colab": {
          "base_uri": "https://localhost:8080/"
        },
        "id": "QH0wP6TrfAPM",
        "outputId": "3c2b18c5-218d-41af-cf40-bf439379ec5e"
      },
      "source": [
        "#print(\"Python\")\n",
        "\n",
        "i = 0\n",
        "while i<=4:\n",
        "  print(i,end=' ')\n",
        "  i+=1"
      ],
      "execution_count": null,
      "outputs": [
        {
          "output_type": "stream",
          "text": [
            "0 1 2 3 4 "
          ],
          "name": "stdout"
        }
      ]
    },
    {
      "cell_type": "code",
      "metadata": {
        "id": "9xCCgLkGfkYj"
      },
      "source": [
        "# Print a multiplication table\n",
        "# 5 x 1 = 5\n",
        "# 5 x 2 = 10\n",
        ".\n",
        ".\n",
        ".\n",
        "# 5 x 10 = 50"
      ],
      "execution_count": null,
      "outputs": []
    },
    {
      "cell_type": "code",
      "metadata": {
        "id": "fOaGl3o5hARm"
      },
      "source": [
        "n = int(input('Enter the number:'))\n",
        "i = 1\n",
        "while i<=10:\n",
        "  print(f'{n} x {i} = {n*i}')\n",
        "  i+=1"
      ],
      "execution_count": null,
      "outputs": []
    },
    {
      "cell_type": "code",
      "metadata": {
        "id": "eM44fFP3hN9k"
      },
      "source": [
        "# Write a forever loop\n",
        "# Take input in the form of message\n",
        "# If message = Hello | Hi | Hey then print \"Hello User\"\n",
        "# If message = How are you then print \"I am fine\"\n",
        "# if message = Bye then print \"Bye User\",it should come out of the loop\n",
        "# if anything else, print (I dont understand)\n",
        "# If you give more than 3 times anything else, then stop the program\n",
        "\n",
        "# What you need to explore?\n",
        "# 1. How to get a forver loop?\n",
        "# 2. How to put Hello | Hi | Hey in one condition\n",
        "# 3. How to exit from a loop?\n",
        "\n",
        "# YOU DONT HAVE TO SUBMIT YOUR ASSIGNMENT> IT IS JUST FOR YOUR REFERENCE"
      ],
      "execution_count": null,
      "outputs": []
    },
    {
      "cell_type": "code",
      "metadata": {
        "id": "4146Qlk5kbeD"
      },
      "source": [
        "# Advanced Datatypes and Libraries\n",
        "# List,String, Dictionary\n",
        "# Numpy : Arrays [Tensors] - Numerical Computing\n",
        "# Matplotlib and Seaborn - Data Visualization\n",
        "# Pandas : Exploratory Data analysis\n",
        "# Streamlit : Web App "
      ],
      "execution_count": null,
      "outputs": []
    },
    {
      "cell_type": "code",
      "metadata": {
        "id": "pryyHGBRT4_b"
      },
      "source": [
        "# for loop\n",
        "# Initialization,Condition, Increment/Decrement"
      ],
      "execution_count": null,
      "outputs": []
    },
    {
      "cell_type": "code",
      "metadata": {
        "colab": {
          "base_uri": "https://localhost:8080/"
        },
        "id": "RMGF09jmUGEC",
        "outputId": "eefa6d8d-f9da-4330-9827-2b4e6a604abb"
      },
      "source": [
        "# Range (Start Value, End Value,Step)\n",
        "# Method 1: range(num1) num1 - Last + 1 Value , Starting Value =0,Step=1\n",
        "print(list(range(10)))\n",
        "# Method 2: range(num1,num2) || num1 = Starting value, num2 = End Value, Step =1\n",
        "print(list(range(5,10)))\n",
        "# Method 3: range(num1,num2,num3) || num1 = Start value, num2 = ENd Value , num3 = Step\n",
        "print(list(range(3,20,3)))\n",
        "\n",
        "print(list(range(50,4,-5)))"
      ],
      "execution_count": null,
      "outputs": [
        {
          "output_type": "stream",
          "text": [
            "[0, 1, 2, 3, 4, 5, 6, 7, 8, 9]\n",
            "[5, 6, 7, 8, 9]\n",
            "[3, 6, 9, 12, 15, 18]\n",
            "[50, 45, 40, 35, 30, 25, 20, 15, 10, 5]\n"
          ],
          "name": "stdout"
        }
      ]
    },
    {
      "cell_type": "code",
      "metadata": {
        "id": "ppxCer1sUz2M"
      },
      "source": [
        "range?"
      ],
      "execution_count": null,
      "outputs": []
    },
    {
      "cell_type": "code",
      "metadata": {
        "id": "hPsFI0m7VsRj"
      },
      "source": [
        "#50 to 5\n",
        "# 50,45,40,35,30,25,20,15,10,5"
      ],
      "execution_count": null,
      "outputs": []
    },
    {
      "cell_type": "code",
      "metadata": {
        "colab": {
          "base_uri": "https://localhost:8080/"
        },
        "id": "J9TmxFAgWKlN",
        "outputId": "ae0fdf26-38dc-4523-916c-195f48dcbc46"
      },
      "source": [
        "for i in range(5,10):\n",
        "  print(i)"
      ],
      "execution_count": null,
      "outputs": [
        {
          "output_type": "stream",
          "text": [
            "5\n",
            "6\n",
            "7\n",
            "8\n",
            "9\n"
          ],
          "name": "stdout"
        }
      ]
    },
    {
      "cell_type": "code",
      "metadata": {
        "colab": {
          "base_uri": "https://localhost:8080/"
        },
        "id": "yYFtBlRxWO0Z",
        "outputId": "05979c79-5880-4d19-8bef-09dbe0290dee"
      },
      "source": [
        "# List : Advanced Datatype in Python ( Sequence )\n",
        "# List is Mutable : It can be changed (Update can be done)\n",
        "a_list = [1,'Python',1.1,True]\n",
        "type(a_list)"
      ],
      "execution_count": null,
      "outputs": [
        {
          "output_type": "execute_result",
          "data": {
            "text/plain": [
              "list"
            ]
          },
          "metadata": {
            "tags": []
          },
          "execution_count": 16
        }
      ]
    },
    {
      "cell_type": "code",
      "metadata": {
        "colab": {
          "base_uri": "https://localhost:8080/"
        },
        "id": "g1FhVtgQYFlM",
        "outputId": "4847c5ae-700e-4e19-8c22-353c4df60073"
      },
      "source": [
        "a_list"
      ],
      "execution_count": null,
      "outputs": [
        {
          "output_type": "execute_result",
          "data": {
            "text/plain": [
              "[1, 'Python', 1.1, True]"
            ]
          },
          "metadata": {
            "tags": []
          },
          "execution_count": 17
        }
      ]
    },
    {
      "cell_type": "code",
      "metadata": {
        "colab": {
          "base_uri": "https://localhost:8080/"
        },
        "id": "DF5ykCj9XVTM",
        "outputId": "5d2ce575-b141-4490-bdec-755618b1f1a2"
      },
      "source": [
        "for i in a_list:\n",
        "  print(f'Component: {i}')"
      ],
      "execution_count": null,
      "outputs": [
        {
          "output_type": "stream",
          "text": [
            "Component: 1\n",
            "Component: Python\n",
            "Component: 1.1\n",
            "Component: True\n"
          ],
          "name": "stdout"
        }
      ]
    },
    {
      "cell_type": "code",
      "metadata": {
        "colab": {
          "base_uri": "https://localhost:8080/"
        },
        "id": "CxA4qzSfYSSF",
        "outputId": "19e834d0-7607-4c45-a5d6-32545244d5ac"
      },
      "source": [
        "a_list[-1]"
      ],
      "execution_count": null,
      "outputs": [
        {
          "output_type": "execute_result",
          "data": {
            "text/plain": [
              "True"
            ]
          },
          "metadata": {
            "tags": []
          },
          "execution_count": 24
        }
      ]
    },
    {
      "cell_type": "code",
      "metadata": {
        "id": "0jPJdp78YwUz"
      },
      "source": [
        "a_list.append('Java')"
      ],
      "execution_count": null,
      "outputs": []
    },
    {
      "cell_type": "code",
      "metadata": {
        "colab": {
          "base_uri": "https://localhost:8080/"
        },
        "id": "rov-7qz2ZWGK",
        "outputId": "77ed539b-4a20-47c8-9cfb-8e8304a643b0"
      },
      "source": [
        "a_list"
      ],
      "execution_count": null,
      "outputs": [
        {
          "output_type": "execute_result",
          "data": {
            "text/plain": [
              "[1, 'Python', 1.1, True, 'Java']"
            ]
          },
          "metadata": {
            "tags": []
          },
          "execution_count": 26
        }
      ]
    },
    {
      "cell_type": "code",
      "metadata": {
        "id": "66pf_7vVZXOP"
      },
      "source": [
        "# List Functions: Append,Insert, pop, remove"
      ],
      "execution_count": null,
      "outputs": []
    },
    {
      "cell_type": "code",
      "metadata": {
        "id": "8WieaxKkZ6aQ"
      },
      "source": [
        "# Interview Questions\n",
        "# Output of this code\n",
        "list_a = [99,98,97,96]\n",
        "list_b = list_a\n",
        "list_b[2] = 0\n",
        "print(list_a)"
      ],
      "execution_count": null,
      "outputs": []
    },
    {
      "cell_type": "code",
      "metadata": {
        "id": "l8r2vOHeb2mM"
      },
      "source": [
        "# Libraries \n",
        "# Functions and Variables\n",
        "\n",
        "# Libraries are considered as object.\n",
        "# Object is an instance of a class\n",
        "\n",
        "# Method(): Functions called from objects\n",
        "# Attributes : Variables called from objects"
      ],
      "execution_count": null,
      "outputs": []
    },
    {
      "cell_type": "code",
      "metadata": {
        "colab": {
          "base_uri": "https://localhost:8080/"
        },
        "id": "hEGT50J4dR6C",
        "outputId": "ff621e08-3903-46d4-c130-0f70c913e3dc"
      },
      "source": [
        "print(\"I am learning Python\")"
      ],
      "execution_count": null,
      "outputs": [
        {
          "output_type": "stream",
          "text": [
            "I am learning Python\n"
          ],
          "name": "stdout"
        }
      ]
    },
    {
      "cell_type": "code",
      "metadata": {
        "colab": {
          "base_uri": "https://localhost:8080/"
        },
        "id": "vTnnJwPVdLGR",
        "outputId": "0e888214-d20e-413f-8c60-00fc73932f62"
      },
      "source": [
        "import numpy as np\n",
        "a = np.array([[1,5,3],\n",
        "          [3,4,5]],dtype='object')\n",
        "print(a)\n",
        "print(a.ndim)\n",
        "print(a.shape)\n",
        "print(a.size)"
      ],
      "execution_count": null,
      "outputs": [
        {
          "output_type": "stream",
          "text": [
            "[[1 5 3]\n",
            " [3 4 5]]\n",
            "2\n",
            "(2, 3)\n",
            "6\n"
          ],
          "name": "stdout"
        }
      ]
    },
    {
      "cell_type": "code",
      "metadata": {
        "colab": {
          "base_uri": "https://localhost:8080/"
        },
        "id": "pO64KNCbigm7",
        "outputId": "7a3704a6-a8d4-453c-b314-41fe056cd03c"
      },
      "source": [
        "np.random.seed(123)# Controlling the randomness of the value\n",
        "a = np.random.randint(1,100,10)\n",
        "a = np.sort(a)\n",
        "a\n",
        "# Random generator : Seed value"
      ],
      "execution_count": null,
      "outputs": [
        {
          "output_type": "execute_result",
          "data": {
            "text/plain": [
              "array([18, 48, 58, 67, 84, 87, 93, 97, 98, 99])"
            ]
          },
          "metadata": {
            "tags": []
          },
          "execution_count": 47
        }
      ]
    },
    {
      "cell_type": "code",
      "metadata": {
        "colab": {
          "base_uri": "https://localhost:8080/"
        },
        "id": "rpSBWeP_jRV-",
        "outputId": "b134d4d2-2b90-46b3-9740-94f51d6b3647"
      },
      "source": [
        "b = np.array([1,55,77,22,54,100])\n",
        "b"
      ],
      "execution_count": null,
      "outputs": [
        {
          "output_type": "execute_result",
          "data": {
            "text/plain": [
              "array([  1,  55,  77,  22,  54, 100])"
            ]
          },
          "metadata": {
            "tags": []
          },
          "execution_count": 48
        }
      ]
    },
    {
      "cell_type": "code",
      "metadata": {
        "id": "PEHvSFvHmXyO"
      },
      "source": [
        "# [0,0.5,0.7,0.2,0.53,1]"
      ],
      "execution_count": null,
      "outputs": []
    },
    {
      "cell_type": "code",
      "metadata": {
        "id": "5fud_53MmDOk"
      },
      "source": [
        "# The Minimum gets replaced with 0\n",
        "# Max Value gets replaced with 1\n",
        "# All the other s will be in between 0 and 1"
      ],
      "execution_count": null,
      "outputs": []
    },
    {
      "cell_type": "code",
      "metadata": {
        "colab": {
          "base_uri": "https://localhost:8080/"
        },
        "id": "JOoNswEknLVv",
        "outputId": "50accd25-d800-4a28-d4f1-9b5c295f79a5"
      },
      "source": [
        "b[-1]"
      ],
      "execution_count": null,
      "outputs": [
        {
          "output_type": "execute_result",
          "data": {
            "text/plain": [
              "100"
            ]
          },
          "metadata": {
            "tags": []
          },
          "execution_count": 49
        }
      ]
    },
    {
      "cell_type": "code",
      "metadata": {
        "id": "5Vl7V4omn8fV"
      },
      "source": [
        "# Pandas : Panel Datas : Exploring the Data  [Data Analytics]\n",
        "# This is the first step in ML/DS/AI Project\n",
        "\n",
        "# Preprocessing\n",
        "# Cleaning\n",
        "# Normalization\n",
        "# Handle Missing Data\n",
        "# Removing Unwanted Data\n",
        "# Try to answer some questions - Data Mining\n",
        "\n",
        "# 2 imp objects: Dataframe and Series\n",
        "# DataFrame : 2 Dimension [Matrix] : Rows and Columns\n",
        "# Series : 1 Dimension[Vector]: Column"
      ],
      "execution_count": null,
      "outputs": []
    },
    {
      "cell_type": "code",
      "metadata": {
        "id": "Dn2z6ODvpa06"
      },
      "source": [
        "# List/Array/Dictionary then use pd.DataFrame()\n",
        "# Excel Sheets : pd.read_excel()\n",
        "# csv Files ( Comma separated values) - pd.read_csv()\n",
        "# json files(Javascript object Notation) -pd.read_json()\n",
        "# HTML Files - pd.read_html()[-1]"
      ],
      "execution_count": null,
      "outputs": []
    },
    {
      "cell_type": "code",
      "metadata": {
        "colab": {
          "base_uri": "https://localhost:8080/"
        },
        "id": "m08CvvqupIHT",
        "outputId": "a2602f25-abb0-4391-874c-29d27382b5e0"
      },
      "source": [
        "# Dictionary consists of Key and Value\n",
        "\n",
        "d = {'Language':['Python','C++','C'],\n",
        "     'Person':['Mr X','Mr Y',np.nan]}\n",
        "d"
      ],
      "execution_count": null,
      "outputs": [
        {
          "output_type": "execute_result",
          "data": {
            "text/plain": [
              "{'Language': ['Python', 'C++', 'C'], 'Person': ['Mr X', 'Mr Y', nan]}"
            ]
          },
          "metadata": {
            "tags": []
          },
          "execution_count": 60
        }
      ]
    },
    {
      "cell_type": "code",
      "metadata": {
        "colab": {
          "base_uri": "https://localhost:8080/"
        },
        "id": "kzG0jK4xqmdP",
        "outputId": "1e06b72c-2a17-407c-bce7-229b7a25524d"
      },
      "source": [
        "type(d)"
      ],
      "execution_count": null,
      "outputs": [
        {
          "output_type": "execute_result",
          "data": {
            "text/plain": [
              "dict"
            ]
          },
          "metadata": {
            "tags": []
          },
          "execution_count": 61
        }
      ]
    },
    {
      "cell_type": "code",
      "metadata": {
        "colab": {
          "base_uri": "https://localhost:8080/",
          "height": 136
        },
        "id": "lQJ79b1Iqp9t",
        "outputId": "aeb856ba-5e2a-48ee-abfc-dc072f5182ff"
      },
      "source": [
        "import pandas as pd\n",
        "df = pd.DataFrame(d)\n",
        "df"
      ],
      "execution_count": null,
      "outputs": [
        {
          "output_type": "execute_result",
          "data": {
            "text/html": [
              "<div>\n",
              "<style scoped>\n",
              "    .dataframe tbody tr th:only-of-type {\n",
              "        vertical-align: middle;\n",
              "    }\n",
              "\n",
              "    .dataframe tbody tr th {\n",
              "        vertical-align: top;\n",
              "    }\n",
              "\n",
              "    .dataframe thead th {\n",
              "        text-align: right;\n",
              "    }\n",
              "</style>\n",
              "<table border=\"1\" class=\"dataframe\">\n",
              "  <thead>\n",
              "    <tr style=\"text-align: right;\">\n",
              "      <th></th>\n",
              "      <th>Language</th>\n",
              "      <th>Person</th>\n",
              "    </tr>\n",
              "  </thead>\n",
              "  <tbody>\n",
              "    <tr>\n",
              "      <th>0</th>\n",
              "      <td>Python</td>\n",
              "      <td>Mr X</td>\n",
              "    </tr>\n",
              "    <tr>\n",
              "      <th>1</th>\n",
              "      <td>C++</td>\n",
              "      <td>Mr Y</td>\n",
              "    </tr>\n",
              "    <tr>\n",
              "      <th>2</th>\n",
              "      <td>C</td>\n",
              "      <td>NaN</td>\n",
              "    </tr>\n",
              "  </tbody>\n",
              "</table>\n",
              "</div>"
            ],
            "text/plain": [
              "  Language Person\n",
              "0   Python   Mr X\n",
              "1      C++   Mr Y\n",
              "2        C    NaN"
            ]
          },
          "metadata": {
            "tags": []
          },
          "execution_count": 62
        }
      ]
    },
    {
      "cell_type": "code",
      "metadata": {
        "colab": {
          "base_uri": "https://localhost:8080/"
        },
        "id": "_hR9KpihqxaC",
        "outputId": "87738627-f2a4-44eb-e19b-7172d5e88839"
      },
      "source": [
        "type(df)"
      ],
      "execution_count": null,
      "outputs": [
        {
          "output_type": "execute_result",
          "data": {
            "text/plain": [
              "pandas.core.frame.DataFrame"
            ]
          },
          "metadata": {
            "tags": []
          },
          "execution_count": 55
        }
      ]
    },
    {
      "cell_type": "code",
      "metadata": {
        "id": "YY92SINmq7bj"
      },
      "source": [
        "# Assignment : Create a DataFrame for a csv file from Kaggle Website\n",
        "\n",
        "# SIgn in using Google\n",
        "# Link for Dataset : https://www.kaggle.com/rtatman/chocolate-bar-ratings\n",
        "\n",
        "# https://www.youtube.com/watch?v=gwDOUuBH7ws&t=639s&ab_channel=DiazonicLabs"
      ],
      "execution_count": null,
      "outputs": []
    }
  ]
}